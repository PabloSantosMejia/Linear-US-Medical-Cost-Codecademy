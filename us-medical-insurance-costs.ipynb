{
 "cells": [
  {
   "cell_type": "markdown",
   "metadata": {},
   "source": [
    "# U.S. Medical Insurance Costs"
   ]
  },
  {
   "cell_type": "markdown",
   "metadata": {},
   "source": [
    "## Part 1 - Data classification \n",
    "\n",
    "File name insurance.csv\n",
    "\n",
    "Take note of how information is organized. How will this affect how you analyze the data in Python? Is there anything of particular interest to you in the dataset that you want to investigate? Think about these things before you jump into analyzing it.\n",
    "\n",
    "Columns (7) are: Age, Sex , BMI , number_children , Smoker , Region and Charges\n",
    "\n",
    "Arrange data in a lists names with the DictReader function in the csv module. "
   ]
  },
  {
   "cell_type": "code",
   "execution_count": 1,
   "metadata": {},
   "outputs": [],
   "source": [
    "import csv\n",
    "\n",
    "ages = []\n",
    "sexs = []\n",
    "bmis = []\n",
    "number_children = []\n",
    "smokers = []\n",
    "regions = []\n",
    "charges = []\n",
    "\n",
    "with open('insurance.csv', newline='') as users_csv:\n",
    "  user_reader = csv.DictReader(users_csv)\n",
    "  for row in user_reader:\n",
    "    ages.append(int(row['age']))\n",
    "    sexs.append(row['sex'])\n",
    "    bmis.append(float(row['bmi']))\n",
    "    number_children.append(int(row['children']))\n",
    "    smokers.append(row['smoker'])\n",
    "    regions.append(row['region'])\n",
    "    charges.append(float(row['charges']))\n",
    "\n",
    " \n"
   ]
  },
  {
   "cell_type": "markdown",
   "metadata": {},
   "source": [
    "Now to organize data we use a dictionary containing keys as columns"
   ]
  },
  {
   "cell_type": "code",
   "execution_count": 2,
   "metadata": {},
   "outputs": [],
   "source": [
    "      \n",
    "def create_dictionary(ages, sexs, bmis, number_children, smokers, regions, charges):\n",
    "    list_names = [\"age\", \"sex\", \"BMI\", \"Children\", \"Smoker\", \"Region\", \"Charge\"]\n",
    "    complete_list = [ages, sexs, bmis, number_children, smokers, regions, charges]\n",
    "    patients_dict = {}\n",
    "    for i in range(len(list_names)):\n",
    "        patients_dict[list_names[i]] = complete_list[i]\n",
    "    return patients_dict\n",
    "patients = create_dictionary(ages, sexs, bmis, number_children, smokers, regions, charges)\n",
    "\n",
    "\n"
   ]
  },
  {
   "cell_type": "markdown",
   "metadata": {},
   "source": [
    "## Part 2 - Calculating relevant data \n",
    "With the data in DictReader, we find a dictionary with columns as keys and for each value the corresponding data type value. With the data organized in the different lists we can: \n",
    "1) Review each data column values\n",
    "2)  Review data values within different categories for example, whats the average insurance cost of smokers.\n",
    "\n",
    "Let's start by calculating the number of patients, the average age of patients, the average charge, the number of women and men, the number of smokers and non-smokers and the unique regions."
   ]
  },
  {
   "cell_type": "code",
   "execution_count": 3,
   "metadata": {},
   "outputs": [
    {
     "name": "stdout",
     "output_type": "stream",
     "text": [
      "The total number of patients is 1338.\n",
      "The average age is 39.2 years.\n",
      "The average BMI is 30.7.\n",
      "The average charge is 13270.4.\n",
      "The patients that are female are 662 and the total that are males are 676\n",
      "The patients that are smokers are 274 and the total that are non-smoker are 1064\n",
      "['southwest', 'southeast', 'northwest', 'northeast']\n"
     ]
    }
   ],
   "source": [
    "total_age = 0\n",
    "total_bmi = 0\n",
    "total_charge = 0\n",
    "total_females = 0\n",
    "total_smokers = 0\n",
    "different_region = []\n",
    "\n",
    "for age in ages:\n",
    "    total_age += int(age)\n",
    "average_age = total_age / len(ages)\n",
    "for bmi in bmis:\n",
    "    total_bmi += float(bmi)\n",
    "average_bmi = total_bmi / len(bmis)\n",
    "for charge in charges:\n",
    "    total_charge += float(charge)\n",
    "average_charge = total_charge / len(charges)\n",
    "for sex in sexs:\n",
    "    if sex == \"female\":\n",
    "        total_females += 1\n",
    "total_males = len(sexs) - total_females\n",
    "for smoker in smokers:\n",
    "    if smoker == \"yes\":\n",
    "        total_smokers += 1\n",
    "total_nonsmokers = len(smokers) - total_smokers\n",
    "\n",
    "for region in regions:\n",
    "    if region not in different_region:\n",
    "        different_region.append(region)\n",
    "        \n",
    "print(\"The total number of patients is {patients}.\".format(patients=len(ages)))\n",
    "print(\"The average age is {Average_age} years.\".format(Average_age = round(average_age,1)))\n",
    "print(\"The average BMI is {Average_bmi}.\".format(Average_bmi = round(average_bmi,1)))\n",
    "print(\"The average charge is {Average_charge}.\".format(Average_charge = round(average_charge,1)))  \n",
    "print(\"The patients that are female are {Total_females} and the total that are males are {Total_males}\".format(Total_females = total_females, Total_males = total_males))\n",
    "print(\"The patients that are smokers are {Total_smokers} and the total that are non-smoker are {Total_nonsmoker}\".format(Total_smokers = total_smokers, Total_nonsmoker = total_nonsmokers))\n",
    "print(different_region)\n"
   ]
  },
  {
   "cell_type": "markdown",
   "metadata": {},
   "source": [
    "Now lets create a dictionary containing each unique region with the number of patients in that region."
   ]
  },
  {
   "cell_type": "code",
   "execution_count": 4,
   "metadata": {},
   "outputs": [
    {
     "name": "stdout",
     "output_type": "stream",
     "text": [
      "{'southwest': 325, 'southeast': 364, 'northwest': 325, 'northeast': 324}\n"
     ]
    }
   ],
   "source": [
    "region_dict = {}\n",
    "region_counter = 0\n",
    "for region in different_region:\n",
    "    region_dict.update({region: 0})\n",
    "for key in region_dict:\n",
    "    for region in regions:\n",
    "        if region == key:\n",
    "            region_dict[region] += 1\n",
    "    \n",
    "    \n",
    "print(region_dict)"
   ]
  },
  {
   "cell_type": "markdown",
   "metadata": {},
   "source": [
    "Let's do some more analysis. The scope of the project is to evaluate how different variables affect the insurance cost (charge), meaning we can analyse how indivual variables affect the charge value. Now we can calculate the effect on indicual variables to the change in charge. First let's calculate the average charge for smokers and for non-smokers. And then similarly calculate the average charge for women or men. And finally let's check if there is a difference in charge for each patient's region."
   ]
  },
  {
   "cell_type": "code",
   "execution_count": 5,
   "metadata": {},
   "outputs": [
    {
     "name": "stdout",
     "output_type": "stream",
     "text": [
      "The average charge for a smoker is 32050.2\n",
      "The average charge for a non- smoker is 8434.3\n",
      "The difference in charge for a smoker and a non- smoker is 23615.9! So please quit smoking!\n",
      "The average charge for women is 12569.6\n",
      "The average charge for men is 13956.8\n",
      "The difference in charge for women and men -1387.2\n",
      "The average charge for southwest region is 12346.9\n",
      "The average charge for southeast region is 14735.4\n",
      "The average charge for northwest region is 12417.6\n",
      "The average charge for northeast region is 13406.4\n",
      "The most expensive region is southeast and the least expensive region is southwest.\n"
     ]
    }
   ],
   "source": [
    "smoking_charge = 0\n",
    "non_smoking_charge = 0 \n",
    "female_charge = 0\n",
    "male_charge = 0\n",
    "southwest_charge = 0\n",
    "southeast_charge = 0\n",
    "northwest_charge = 0\n",
    "northeast_charge = 0\n",
    "\n",
    "smoker_charge_tuple = list(zip(smokers, charges)) \n",
    "sex_charge_tuple = list(zip(sexs, charges))\n",
    "region_charge_tuple = list(zip(regions, charges))\n",
    "\n",
    "for patient in smoker_charge_tuple:\n",
    "    for value in range(len(patient)):\n",
    "        if patient[value] == 'yes':\n",
    "            smoking_charge += float(patient[value+1])\n",
    "            average_smoking_charge = round(smoking_charge / total_smokers, 1)\n",
    "            \n",
    "for patient in smoker_charge_tuple:\n",
    "    for value in range(len(patient)):\n",
    "        if patient[value] == 'no':\n",
    "            non_smoking_charge += float(patient[value+1])\n",
    "            average_nonsmoking_charge = round(non_smoking_charge / total_nonsmokers, 1) \n",
    "            \n",
    "delta_in_smoker = average_smoking_charge - average_nonsmoking_charge \n",
    "\n",
    "for patient in sex_charge_tuple:\n",
    "    for value in range(len(patient)):\n",
    "        if patient[value] == 'female':\n",
    "            female_charge += float(patient[value+1])\n",
    "            average_female_charge = round(female_charge / total_females, 1)\n",
    "\n",
    "for patient in sex_charge_tuple:\n",
    "    for value in range(len(patient)):\n",
    "        if patient[value] == 'male':\n",
    "            male_charge += float(patient[value+1])\n",
    "            average_male_charge = round(male_charge / total_males, 1)\n",
    "            \n",
    "delta_in_sex = round(average_female_charge - average_male_charge,1)   \n",
    "\n",
    "for patient in region_charge_tuple:\n",
    "    for value in range(len(patient)):\n",
    "        if patient[value] == 'southwest':\n",
    "            southwest_charge += float(patient[value+1])\n",
    "            average_southwest_charge = round(southwest_charge / region_dict['southwest'], 1)\n",
    "            \n",
    "for patient in region_charge_tuple:\n",
    "    for value in range(len(patient)):\n",
    "        if patient[value] == 'southeast':\n",
    "            southeast_charge += float(patient[value+1])\n",
    "            average_southeast_charge = round(southeast_charge / region_dict['southeast'], 1)\n",
    "            \n",
    "for patient in region_charge_tuple:\n",
    "    for value in range(len(patient)):\n",
    "        if patient[value] == 'northwest':\n",
    "            northwest_charge += float(patient[value+1])\n",
    "            average_northwest_charge = round(northwest_charge / region_dict['northwest'], 1)\n",
    "            \n",
    "for patient in region_charge_tuple:\n",
    "    for value in range(len(patient)):\n",
    "        if patient[value] == 'northeast':\n",
    "            northeast_charge += float(patient[value+1])\n",
    "            average_northeast_charge = round(northeast_charge / region_dict['northeast'], 1)\n",
    "            \n",
    "average_region_charge_dict = {}\n",
    "for region in different_region:\n",
    "    average_region_charge_dict[region] = 0\n",
    "average_region_charge_dict['southwest'] = average_southwest_charge\n",
    "average_region_charge_dict['southeast'] = average_southeast_charge\n",
    "average_region_charge_dict['northwest'] = average_northwest_charge\n",
    "average_region_charge_dict['northeast'] = average_northeast_charge\n",
    "    \n",
    "most_expensive_region_charge = max(average_northeast_charge, average_northwest_charge, average_southeast_charge, average_southwest_charge)\n",
    "for average_charge in average_region_charge_dict:\n",
    "    if average_region_charge_dict[average_charge] == most_expensive_region_charge:\n",
    "        most_expensive_region = average_charge\n",
    "\n",
    "least_expensive_region_charge = min(average_northeast_charge, average_northwest_charge, average_southeast_charge, average_southwest_charge)\n",
    "for average_charge in average_region_charge_dict:\n",
    "    if average_region_charge_dict[average_charge] == least_expensive_region_charge:\n",
    "        least_expensive_region = average_charge\n",
    "        \n",
    "print(\"The average charge for a smoker is {average_smoking_charge}\".format(average_smoking_charge = average_smoking_charge))\n",
    "print(\"The average charge for a non- smoker is {average_nonsmoking_charge}\".format(average_nonsmoking_charge = average_nonsmoking_charge))\n",
    "print(\"The difference in charge for a smoker and a non- smoker is {delta_in_smoker}! So please quit smoking!\".format(delta_in_smoker = delta_in_smoker))\n",
    "print(\"The average charge for women is {average_female_charge}\".format(average_female_charge = average_female_charge))\n",
    "print(\"The average charge for men is {average_male_charge}\".format(average_male_charge = average_male_charge))\n",
    "print(\"The difference in charge for women and men {delta_in_sex}\".format(delta_in_sex = delta_in_sex))\n",
    "print(\"The average charge for southwest region is {average_southwest_charge}\".format(average_southwest_charge = average_southwest_charge))\n",
    "print(\"The average charge for southeast region is {average_southeast_charge}\".format(average_southeast_charge = average_southeast_charge))\n",
    "print(\"The average charge for northwest region is {average_northwest_charge}\".format(average_northwest_charge = average_northwest_charge))\n",
    "print(\"The average charge for northeast region is {average_northeast_charge}\".format(average_northeast_charge = average_northeast_charge))\n",
    "print(\"The most expensive region is {most_expensive_region} and the least expensive region is {least_expensive_region}.\".format(most_expensive_region = most_expensive_region, least_expensive_region = least_expensive_region)) "
   ]
  },
  {
   "cell_type": "markdown",
   "metadata": {},
   "source": [
    "Now let's evaluate how the number of children affect the charge value. Lets calculate the average charge for having no children, 1 child, 2 children or 3 children. "
   ]
  },
  {
   "cell_type": "code",
   "execution_count": 6,
   "metadata": {},
   "outputs": [
    {
     "name": "stdout",
     "output_type": "stream",
     "text": [
      "The average charge for having no child is 12366.0\n",
      "The average charge for having 1 children is 12731.2\n",
      "The average charge for having 2 children is 15073.6\n",
      "The average charge for having 3 children is 15355.3\n"
     ]
    }
   ],
   "source": [
    "no_children_charge = 0\n",
    "one_child_charge = 0\n",
    "two_children_charge = 0\n",
    "three_child_charge = 0\n",
    "total_no_children = 0\n",
    "total_1_child = 0\n",
    "total_2_children = 0\n",
    "total_3_children = 0\n",
    "\n",
    "for child in number_children:\n",
    "    if child == 0:\n",
    "        total_no_children += 1\n",
    "    if child == 1:\n",
    "        total_1_child += 1\n",
    "    if child == 2:\n",
    "        total_2_children += 1\n",
    "    if child == 3:\n",
    "        total_3_children += 1\n",
    "children_charge_tuple = zip(number_children, charges)\n",
    "\n",
    "for patient in children_charge_tuple:\n",
    "    for value in range(len(patient)):\n",
    "        if patient[value] == 0:\n",
    "            no_children_charge += float(patient[value+1])\n",
    "            average_nochildren_charge = round(no_children_charge / total_no_children, 1)\n",
    "        if patient[value] == 1:\n",
    "            one_child_charge += float(patient[value+1])\n",
    "            average_one_children_charge = round(one_child_charge / total_1_child, 1)\n",
    "        if patient[value] == 2:\n",
    "            two_children_charge += float(patient[value+1])\n",
    "            average_two_children_charge = round(two_children_charge / total_2_children, 1)\n",
    "        if patient[value] == 3:\n",
    "            three_child_charge += float(patient[value+1])\n",
    "            average_three_children_charge = round(three_child_charge / total_3_children, 1)\n",
    "print(\"The average charge for having no child is {average_nochildren_charge}\".format(average_nochildren_charge = average_nochildren_charge))\n",
    "print(\"The average charge for having 1 children is {average_one_children_charge}\".format(average_one_children_charge = average_one_children_charge))\n",
    "print(\"The average charge for having 2 children is {average_two_children_charge}\".format(average_two_children_charge = average_two_children_charge))  \n",
    "print(\"The average charge for having 3 children is {average_three_children_charge}\".format(average_three_children_charge = average_three_children_charge))  \n",
    "\n",
    "            \n",
    "\n"
   ]
  },
  {
   "cell_type": "markdown",
   "metadata": {},
   "source": [
    "## Part 3 - Creating a predictive linear model\n",
    "\n",
    "Lets think over again the scope of the project, we want to evaluate the indiviual effect of each variable on the insurance charge. We could create a linear model that takes into account each variable separately (age, sex, BMI, number of children, smoker and region) to the value of the insurance charge. \n",
    "The model should be like:\n",
    "```\n",
    "Charge = m1*age + m2*sex + m3*bmi + m4*number_children + m5*region + m6*smoker + aggregateB\n",
    "\n",
    "```\n",
    "First define a function that calculate the error of a datapoint\n"
   ]
  },
  {
   "cell_type": "code",
   "execution_count": 7,
   "metadata": {},
   "outputs": [],
   "source": [
    "def get_y(m, b, x):\n",
    "  y = m * x + b\n",
    "  return y"
   ]
  },
  {
   "cell_type": "markdown",
   "metadata": {},
   "source": [
    "Now lets create a function to try different m values and b values and see which line produces the least error. To calculate error between a point and a line, he wants a function called calculate_error(), which will take in m, b, and an [x, y] point called point and return the distance between the line and the point.\n",
    "\n",
    "To find the distance:\n",
    "\n",
    "Get the x-value from the point and store it in a variable called x_point\n",
    "Get the y-value from the point and store it in a variable called y_point\n",
    "Use get_charge() to get the y-value charge value that x_point would be on the line\n",
    "Find the difference between the y from get_y and y_point\n",
    "Return the absolute value of the distance (you can use the built-in function abs() to do this)\n",
    "The distance represents the error between the line y = m*x + b and the point given."
   ]
  },
  {
   "cell_type": "code",
   "execution_count": 8,
   "metadata": {},
   "outputs": [],
   "source": [
    "#Write your calculate_error() function here\n",
    "def calculate_error(m, b, point):\n",
    "    x_point = point[0]\n",
    "    y_point = point[1]\n",
    "    delta_y = abs(get_y(m, b, x_point) - y_point)\n",
    "    return delta_y\n",
    "    "
   ]
  },
  {
   "cell_type": "markdown",
   "metadata": {},
   "source": [
    "Now let's organize the datapoints that we are going to analyse. Let's start by age and charge datapoints. "
   ]
  },
  {
   "cell_type": "code",
   "execution_count": 9,
   "metadata": {},
   "outputs": [],
   "source": [
    "datapoints_age_charge = list(zip(ages, charges))"
   ]
  },
  {
   "cell_type": "markdown",
   "metadata": {},
   "source": [
    "Now let's fit a line to this data, we will need a function called calculate_all_error, which takes m and b that describe a line, and points, a set of data.\n",
    "\n",
    "calculate_all_error should iterate through each point in points and calculate the error from that point to the line (using calculate_error). It should keep a running total of the error, and then return that total after the loop."
   ]
  },
  {
   "cell_type": "code",
   "execution_count": 10,
   "metadata": {},
   "outputs": [],
   "source": [
    "def calculate_all_error(m, b, datapoints):\n",
    "    total_error = 0\n",
    "    for point in datapoints:\n",
    "        point_error = calculate_error(m, b, point)\n",
    "        total_error += point_error\n",
    "    return total_error"
   ]
  },
  {
   "cell_type": "markdown",
   "metadata": {},
   "source": [
    "Now lets define some range for our slope and our start point"
   ]
  },
  {
   "cell_type": "code",
   "execution_count": 11,
   "metadata": {},
   "outputs": [
    {
     "name": "stdout",
     "output_type": "stream",
     "text": [
      "The youngest person in the dataset is 18, the oldest is 64\n",
      "The minimium charge in the dataset is 1121.8739 and the maximum charge is 63770.42801\n"
     ]
    }
   ],
   "source": [
    "minimium_age = min(ages)\n",
    "maximium_age = max(ages)\n",
    "\n",
    "minimium_charge = min(charges)\n",
    "maximium_charges = max(charges)\n",
    "\n",
    "\n",
    "print(\"The youngest person in the dataset is {minimium_age}, the oldest is {maximium_age}\".format(minimium_age = minimium_age, maximium_age = maximium_age))\n",
    "print(\"The minimium charge in the dataset is {minimium_charge} and the maximum charge is {maximium_charges}\".format(minimium_charge = minimium_charge, maximium_charges = maximium_charges))\n"
   ]
  },
  {
   "cell_type": "markdown",
   "metadata": {},
   "source": [
    "Now this information tell us that charge values could go from 1121 up to 63770 in the data set, therefore a good range for our analysis for our b variable could be [500, 100000]. Now lets calculate for our slope range values."
   ]
  },
  {
   "cell_type": "code",
   "execution_count": 12,
   "metadata": {},
   "outputs": [
    {
     "name": "stdout",
     "output_type": "stream",
     "text": [
      "1361.925089347826\n"
     ]
    }
   ],
   "source": [
    "slope_values_age_charge = (maximium_charges - minimium_charge) / (maximium_age - minimium_age)\n",
    "print(slope_values_age_charge)"
   ]
  },
  {
   "cell_type": "markdown",
   "metadata": {},
   "source": [
    "The possible range values for age could go from 0 (meaning as age value increases the carge value increases) up to 2000. \n",
    "\n",
    "Now create a list for the range values of the slope and the b intercept."
   ]
  },
  {
   "cell_type": "code",
   "execution_count": 13,
   "metadata": {},
   "outputs": [],
   "source": [
    "possible_slope_charge = [m for m in range(-10, 2010, 10)]\n",
    "\n",
    "possible_b_charge = [b for b in range(-70000, 70000, 100)]\n"
   ]
  },
  {
   "cell_type": "markdown",
   "metadata": {},
   "source": [
    "We are going to find the smallest error. First, we will make every possible y = m*x + b line by pairing all of the possible ms with all of the possible bs. Then, we will see which y = m*x + b line produces the smallest total error with the set of data stored in datapoint.\n",
    "\n",
    "First, create the variables that we will be optimizing:\n",
    "\n",
    "smallest_error — this should start at infinity (float(\"inf\")) so that any error we get at first will be smaller than our value of smallest_error\n",
    "best_m — we can start this at 0\n",
    "best_b — we can start this at 0\n",
    "We want to:\n",
    "\n",
    "Iterate through each element m in possible_ms\n",
    "For every m value, take every b value in possible_bs\n",
    "If the value returned from calculate_all_error on this m value, this b value, and datapoints is less than our current smallest_error,\n",
    "Set best_m and best_b to be these values, and set smallest_error to this error.\n",
    "By the end of these nested loops, the smallest_error should hold the smallest error we have found, and best_m and best_b should be the values that produced that smallest error value."
   ]
  },
  {
   "cell_type": "code",
   "execution_count": 14,
   "metadata": {},
   "outputs": [
    {
     "name": "stdout",
     "output_type": "stream",
     "text": [
      "(270, -3200, 8976110.539059)\n"
     ]
    }
   ],
   "source": [
    "def linear_parameters(possible_m, possible_b, datapoints):\n",
    "    \n",
    "    smallest_error = float(\"inf\")\n",
    "    best_m = 0\n",
    "    best_b = 0 \n",
    "    for m in possible_m:\n",
    "        for b in possible_b:\n",
    "            error = calculate_all_error(m, b, datapoints)\n",
    "            if error < smallest_error:\n",
    "                best_m = m\n",
    "                best_b = b\n",
    "                smallest_error = error\n",
    "    return best_m, best_b, smallest_error\n",
    "age_linear_parameters = linear_parameters(possible_slope_charge, possible_b_charge, datapoints_age_charge)\n",
    "print(age_linear_parameters)"
   ]
  },
  {
   "cell_type": "markdown",
   "metadata": {},
   "source": [
    "This tell us that the best linear slope for the age factor is 270 and a value intercept b of -3200!\n",
    "\n",
    "Now let's do the same analysis for other variables like BMI\n"
   ]
  },
  {
   "cell_type": "code",
   "execution_count": 17,
   "metadata": {},
   "outputs": [
    {
     "name": "stdout",
     "output_type": "stream",
     "text": [
      "(130, 5400, 11133952.176420998)\n"
     ]
    }
   ],
   "source": [
    "datapoints_bmi_charge = list(zip(bmis, charges))\n",
    "bmi_linear_parameters = linear_parameters(possible_slope_charge, possible_b_charge, datapoints_bmi_charge)\n",
    "print(bmi_linear_parameters)\n"
   ]
  },
  {
   "cell_type": "markdown",
   "metadata": {},
   "source": [
    "The best slope for bmi variable is 130 with an intercept of 5400\n",
    "\n",
    "Now let's use our function to calculate the children variable parameters\n"
   ]
  },
  {
   "cell_type": "code",
   "execution_count": 19,
   "metadata": {},
   "outputs": [
    {
     "name": "stdout",
     "output_type": "stream",
     "text": [
      "(120, 9200, 11171209.628321005)\n"
     ]
    }
   ],
   "source": [
    "datapoints_children_charge = list(zip(number_children, charges))\n",
    "children_linear_parameters = linear_parameters(possible_slope_charge, possible_b_charge, datapoints_children_charge)\n",
    "print(children_linear_parameters)"
   ]
  },
  {
   "cell_type": "markdown",
   "metadata": {},
   "source": [
    "The best slope for children variable is 120 with an intercept of 9200\n",
    "\n",
    "Now lets calculate for sex variable, we define female as 0 and male as 1 to perform the calculations"
   ]
  },
  {
   "cell_type": "code",
   "execution_count": 27,
   "metadata": {},
   "outputs": [
    {
     "name": "stdout",
     "output_type": "stream",
     "text": [
      "(-50, 9400, 11173669.488821002)\n"
     ]
    }
   ],
   "source": [
    "gender_numeric = []\n",
    "possible_smoker_slope_charge = [m for m in range(-1000, 3000, 50)]\n",
    "for sex in sexs:\n",
    "    if sex == 'female':\n",
    "        gender_numeric.append(0)\n",
    "    elif sex == 'male':\n",
    "        gender_numeric.append(1)\n",
    "datapoints_sex_charge = list(zip(gender_numeric, charges))\n",
    "gender_linear_parameters = linear_parameters(possible_smoker_slope_charge, possible_b_charge, datapoints_sex_charge)\n",
    "print(gender_linear_parameters)\n"
   ]
  },
  {
   "cell_type": "markdown",
   "metadata": {},
   "source": [
    "The best slope for gender is -50  with an intercept of 9400\n",
    "\n",
    "Now lets do the same analysis for smoking, define non smoker as 0 and smoker as 1"
   ]
  },
  {
   "cell_type": "code",
   "execution_count": 28,
   "metadata": {},
   "outputs": [
    {
     "name": "stdout",
     "output_type": "stream",
     "text": [
      "(27200, 7300, 7458472.857479012)\n"
     ]
    }
   ],
   "source": [
    "smoking_numeric = []\n",
    "possible_smoker_slope_charge = [m for m in range(0, 30000, 100)]\n",
    "for smoker in smokers:\n",
    "    if smoker == 'no':\n",
    "        smoking_numeric.append(0)\n",
    "    elif smoker == 'yes':\n",
    "        smoking_numeric.append(1)\n",
    "datapoints_smoker_charge = list(zip(smoking_numeric, charges))\n",
    "smoker_linear_parameters = linear_parameters(possible_smoker_slope_charge, possible_b_charge, datapoints_smoker_charge)\n",
    "print(smoker_linear_parameters)"
   ]
  },
  {
   "cell_type": "markdown",
   "metadata": {},
   "source": [
    "The best slope for smoking is 27200 with an intercept of 7300"
   ]
  },
  {
   "cell_type": "markdown",
   "metadata": {},
   "source": [
    "Calculate an aggregate B value"
   ]
  },
  {
   "cell_type": "code",
   "execution_count": 29,
   "metadata": {},
   "outputs": [
    {
     "name": "stdout",
     "output_type": "stream",
     "text": [
      "28100\n"
     ]
    }
   ],
   "source": [
    "aggregate_b = -3200 + 5400 + 9200 + 9400 + 7300\n",
    "print(aggregate_b)"
   ]
  },
  {
   "cell_type": "markdown",
   "metadata": {},
   "source": [
    "## Model Definition and validation\n",
    "\n",
    "Now we completed our model and need to validate it.\n",
    "\n",
    "Our model is\n",
    "\n",
    "```\n",
    "Charge = 270*Age + 130*BMI + 120*Number_children -50*Sex + 27200*Smoker + aggregate b\n",
    "\n",
    "female gender is value of 0 and male value of 1\n",
    "Non-smoker is value 0 and smoker value of 1\n",
    "\n",
    "```\n",
    "Take the minimium adn maximum values for charge, and lets check the variables for those charge values in order to deduce the best value for aggregate b.\n"
   ]
  },
  {
   "cell_type": "code",
   "execution_count": 48,
   "metadata": {},
   "outputs": [
    {
     "name": "stdout",
     "output_type": "stream",
     "text": [
      "18 23.21 0 0 0\n",
      "54 47.41 0 0 1\n"
     ]
    }
   ],
   "source": [
    "index_atmin_charge = 0\n",
    "for charge in range(len(charges)):\n",
    "    if charges[charge] == minimium_charge:\n",
    "        index_atmin_charge = charge\n",
    "age_atmin_charge = ages[index_atmin_charge]\n",
    "children_atmin_charge = number_children[index_atmin_charge]\n",
    "bmi_atmin_charge = bmis[index_atmin_charge]\n",
    "smoker_atmin_charge = smokers[index_atmin_charge]\n",
    "if smoker_atmin_charge == 'no':\n",
    "    smoker_atmin_charge = 0\n",
    "elif smoker_atmin_charge =='yes':\n",
    "    smoker_atmin_charge = 1\n",
    "gender_atmin_charge = sexs[index_atmin_charge]\n",
    "if gender_atmin_charge == 'female':\n",
    "    gender_atmin_charge = 0\n",
    "elif gender_atmin_charge == 'male':\n",
    "    gender_atmin_charge = 0\n",
    "print(age_atmin_charge, bmi_atmin_charge, children_atmin_charge, gender_atmin_charge, smoker_atmin_charge)\n",
    "\n",
    "index_atmax_charge = 0\n",
    "for charge in range(len(charges)):\n",
    "    if charges[charge] == maximium_charges:\n",
    "        index_atmax_charge = charge\n",
    "age_atmax_charge = ages[index_atmax_charge]\n",
    "children_atmax_charge = number_children[index_atmax_charge]\n",
    "bmi_atmax_charge = bmis[index_atmax_charge]\n",
    "smoker_atmax_charge = smokers[index_atmax_charge]\n",
    "if smoker_atmax_charge == 'no':\n",
    "    smoker_atmax_charge = 0\n",
    "elif smoker_atmax_charge =='yes':\n",
    "    smoker_atmax_charge = 1\n",
    "gender_atmax_charge = sexs[index_atmax_charge]\n",
    "if gender_atmax_charge == 'female':\n",
    "    gender_atmax_charge = 0\n",
    "elif gender_atmax_charge == 'male':\n",
    "    gender_atmax_charge = 0\n",
    "print(age_atmax_charge, bmi_atmax_charge, children_atmax_charge, gender_atmax_charge, smoker_atmax_charge)"
   ]
  },
  {
   "cell_type": "markdown",
   "metadata": {},
   "source": [
    "Lets define a function to calculate the model charge and test it with the min and max parameters"
   ]
  },
  {
   "cell_type": "code",
   "execution_count": 53,
   "metadata": {},
   "outputs": [
    {
     "name": "stdout",
     "output_type": "stream",
     "text": [
      "7877.3 47943.3\n",
      "-6755.426100000001 15827.12801\n"
     ]
    }
   ],
   "source": [
    "def get_charge_modeled(age, bmi, number_children, sex, smoker):\n",
    "    charge_modeled = 270*age + 130*bmi + 120*number_children - 50*sex + 27200*smoker \n",
    "    return charge_modeled\n",
    "model_min_charge = get_charge_modeled(age_atmin_charge, bmi_atmin_charge, children_atmin_charge, gender_atmin_charge, smoker_atmin_charge)\n",
    "model_max_charge = get_charge_modeled(age_atmax_charge, bmi_atmax_charge, children_atmax_charge, gender_atmax_charge, smoker_atmax_charge)\n",
    "delta_in_min_charge = minimium_charge - model_min_charge\n",
    "delta_in_max_charge = maximium_charges - model_max_charge\n",
    "\n",
    "print(delta_in_min_charge, delta_in_max_charge)"
   ]
  },
  {
   "cell_type": "markdown",
   "metadata": {},
   "source": [
    "Lets first take our value of aggregate b as the value of delta_in_max_charge\n",
    "\n",
    "```\n",
    "Charge = 270*Age + 130*BMI + 120*Number_children -50*Sex + 27200*Smoker + 15800\n",
    "\n",
    "female gender is value of 0 and male value of 1\n",
    "Non-smoker is value 0 and smoker value of 1\n",
    "\n",
    "```\n",
    "\n",
    "And now create a function to calculate the model charge for all the datapoints.\n"
   ]
  },
  {
   "cell_type": "code",
   "execution_count": 89,
   "metadata": {},
   "outputs": [],
   "source": [
    "def get_charges_modeled(age, bmi, number_children, sex, smoker):\n",
    "    modeled_charges_list = []\n",
    "    for i in range(len(age)):\n",
    "        modeled_charges_list.append(270*age[i] + 130*bmi[i] + 120*number_children[i] - 50*sex[i] + 27200*smoker[i]+round(delta_in_max_charge,0)-average_error)\n",
    "    return modeled_charges_list\n",
    "        "
   ]
  },
  {
   "cell_type": "markdown",
   "metadata": {},
   "source": [
    "Lets test the model for all the datapoints.\n"
   ]
  },
  {
   "cell_type": "code",
   "execution_count": 90,
   "metadata": {},
   "outputs": [],
   "source": [
    "model_charge_list = get_charges_modeled(ages, bmis, number_children, gender_numeric, smoking_numeric)\n",
    "rounded_model_charge_list = []\n",
    "for model_charge in model_charge_list:\n",
    "    rounded_model_charge_list.append(round(model_charge, 2))"
   ]
  },
  {
   "cell_type": "markdown",
   "metadata": {},
   "source": [
    "Calculate the differences in the actual charge and the model charge to check if our model b aggregate is accurate\n"
   ]
  },
  {
   "cell_type": "code",
   "execution_count": 91,
   "metadata": {},
   "outputs": [],
   "source": [
    "delta_in_value_charge = []\n",
    "for value in range(len(rounded_model_charge_list)):\n",
    "    delta_in_value_charge.append(rounded_model_charge_list[value] - charges[value])\n",
    "\n",
    "    "
   ]
  },
  {
   "cell_type": "markdown",
   "metadata": {},
   "source": [
    "The difference seems big! Calculate the average error in our model charge vs actual charge "
   ]
  },
  {
   "cell_type": "code",
   "execution_count": 92,
   "metadata": {},
   "outputs": [
    {
     "name": "stdout",
     "output_type": "stream",
     "text": [
      "22804.949371630068\n"
     ]
    }
   ],
   "source": [
    "value_delta_counter = 0\n",
    "for value in delta_in_value_charge:\n",
    "    value_delta_counter += value\n",
    "    average_error = value_delta_counter / len(delta_in_value_charge)\n",
    "print(average_error)\n",
    "    "
   ]
  },
  {
   "cell_type": "markdown",
   "metadata": {},
   "source": [
    "Now subtract this fix value to our aggregate b value to reajust our model. And we are done! We have a model to calculate the insurance charge that takes into account the person age, bmi, sex, number of children and smoker/non-smoker. The final linear model is:\n",
    "\n",
    "```\n",
    "Charge = 270*Age + 130*BMI + 120*Number_children -50*Sex + 27200*Smoker - 7000 \n",
    "\n",
    "female gender is value of 0 and male value of 1\n",
    "Non-smoker is value 0 and smoker value of 1\n",
    "\n",
    "```\n"
   ]
  }
 ],
 "metadata": {
  "kernelspec": {
   "display_name": "Python 3 (ipykernel)",
   "language": "python",
   "name": "python3"
  },
  "language_info": {
   "codemirror_mode": {
    "name": "ipython",
    "version": 3
   },
   "file_extension": ".py",
   "mimetype": "text/x-python",
   "name": "python",
   "nbconvert_exporter": "python",
   "pygments_lexer": "ipython3",
   "version": "3.12.5"
  }
 },
 "nbformat": 4,
 "nbformat_minor": 4
}
